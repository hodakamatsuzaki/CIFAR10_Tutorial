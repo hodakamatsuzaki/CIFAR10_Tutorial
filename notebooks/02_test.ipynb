{
 "cells": [
  {
   "cell_type": "markdown",
   "id": "0f671581-714e-4eb0-a5d0-439c623fab81",
   "metadata": {},
   "source": [
    "# import"
   ]
  },
  {
   "cell_type": "code",
   "execution_count": 1,
   "id": "4851f25f-ba12-44fa-b479-4cc5ac6a913a",
   "metadata": {},
   "outputs": [],
   "source": [
    "import os\n",
    "import sys\n",
    "\n",
    "import torch\n",
    "import torchvision\n",
    "import torch.nn as nn\n",
    "import torch.optim as optim\n",
    "import numpy as np\n",
    "from torchvision import datasets, transforms\n",
    "import random\n",
    "import matplotlib.pyplot as plt\n",
    "from torch.utils.data import DataLoader\n",
    "\n",
    "sys.path.append('../src')\n",
    "import utils\n",
    "\n",
    "sys.path.append('./src')\n",
    "from model import *"
   ]
  },
  {
   "cell_type": "code",
   "execution_count": 2,
   "id": "f39bc1f8-1db3-42f1-98e7-011c6e5705cc",
   "metadata": {},
   "outputs": [],
   "source": [
    "config = utils.readConfig('../config.json')\n",
    "output_path = config['filepath']['output_dir'] + '/01'\n",
    "\n",
    "utils.makeDirs(output_path, ['graph'])"
   ]
  },
  {
   "cell_type": "markdown",
   "id": "75f86481-57f4-4564-96d4-87b46ad85e77",
   "metadata": {},
   "source": [
    "# GPU or CPU"
   ]
  },
  {
   "cell_type": "code",
   "execution_count": 3,
   "id": "8bd6eddc-0699-438f-946f-14486ea4a99b",
   "metadata": {},
   "outputs": [],
   "source": [
    "device = torch.device('cuda:0' if torch.cuda.is_available() else 'cpu')"
   ]
  },
  {
   "cell_type": "markdown",
   "id": "2e7bdaeb-e010-4432-a6c3-f84cc38c0085",
   "metadata": {},
   "source": [
    "# processing"
   ]
  },
  {
   "cell_type": "code",
   "execution_count": 4,
   "id": "a5434035-31ce-48d2-bb03-4b93c59cbe34",
   "metadata": {},
   "outputs": [],
   "source": [
    "transform = transforms.Compose([\n",
    "    transforms.ToTensor(), #0〜255の整数値を0〜1の浮動小数点数型に変換する\n",
    "    transforms.Normalize((0.5,), (0.5,), (0.5,)) #平均と標準偏差に0.5を指定することで、値の範囲を[-1, 1]にする\n",
    "])"
   ]
  },
  {
   "cell_type": "markdown",
   "id": "b53cfc15-d243-4588-a7df-76e3fa0cd3a1",
   "metadata": {},
   "source": [
    "#  load dataset & dataloder"
   ]
  },
  {
   "cell_type": "code",
   "execution_count": 5,
   "id": "605f0db0-c4de-4ef3-99d8-3165c382b7d7",
   "metadata": {},
   "outputs": [
    {
     "name": "stdout",
     "output_type": "stream",
     "text": [
      "Files already downloaded and verified\n"
     ]
    }
   ],
   "source": [
    "test_dataset = datasets.CIFAR10(root=f\"{output_path}/cifar_data\", train=False, download=True, transform=transform)\n",
    "test_dataloader = DataLoader(test_dataset, batch_size=4, shuffle=False)\n",
    "\n",
    "classes = ('plane', 'car', 'bird', 'cat',\n",
    "           'deer', 'dog', 'frog', 'horse', 'ship', 'truck')"
   ]
  },
  {
   "cell_type": "markdown",
   "id": "a1ac220c-0ac7-4777-8d3e-f35d2c220757",
   "metadata": {},
   "source": [
    "# load model "
   ]
  },
  {
   "cell_type": "code",
   "execution_count": 6,
   "id": "eaf0798c-c493-41c0-a309-c5f316b84cf9",
   "metadata": {},
   "outputs": [
    {
     "data": {
      "text/plain": [
       "<All keys matched successfully>"
      ]
     },
     "execution_count": 6,
     "metadata": {},
     "output_type": "execute_result"
    }
   ],
   "source": [
    "model = ResNet34()\n",
    "model.load_state_dict(torch.load(f\"{output_path}/model.pth\"))"
   ]
  },
  {
   "cell_type": "markdown",
   "id": "03835b27-c886-4622-a126-50d7ac61fd57",
   "metadata": {},
   "source": [
    "# test"
   ]
  },
  {
   "cell_type": "code",
   "execution_count": 7,
   "id": "bcd45ee3-0c60-4928-9873-029b9a94d24a",
   "metadata": {},
   "outputs": [
    {
     "name": "stderr",
     "output_type": "stream",
     "text": [
      "/usr/local/lib/python3.8/dist-packages/torch/nn/functional.py:718: UserWarning: Named tensors and all their associated APIs are an experimental feature and subject to change. Please do not use them for anything important until they are released as stable. (Triggered internally at  /pytorch/c10/core/TensorImpl.h:1156.)\n",
      "  return torch.max_pool2d(input, kernel_size, stride, padding, dilation, ceil_mode)\n"
     ]
    },
    {
     "name": "stdout",
     "output_type": "stream",
     "text": [
      "Predicted:    cat   car  deer plane\n",
      "Accuracy of the network on the 10000 test images: 62 %\n"
     ]
    }
   ],
   "source": [
    "dataiter = iter(test_dataloader)\n",
    "images, labels = dataiter.next()\n",
    "\n",
    "outputs = model(images)\n",
    "\n",
    "_, predicted = torch.max(outputs, 1)\n",
    "\n",
    "print('Predicted: ', ' '.join('%5s' % classes[predicted[j]]\n",
    "                              for j in range(4)))\n",
    "\n",
    "correct = 0\n",
    "total = 0\n",
    "'''\n",
    "**** 変更 ****\n",
    "no_grad->inference_mode\n",
    "こちらの方が早い\n",
    "'''\n",
    "with torch.inference_mode():\n",
    "    for data in test_dataloader:\n",
    "        images, labels = data\n",
    "        outputs = model(images)\n",
    "        _, predicted = torch.max(outputs.data, 1)\n",
    "        total += labels.size(0)\n",
    "        correct += (predicted == labels).sum().item()\n",
    "\n",
    "print('Accuracy of the network on the 10000 test images: %d %%' % (\n",
    "    100 * correct / total))"
   ]
  },
  {
   "cell_type": "markdown",
   "id": "1cc4ae02-38f4-49da-984a-17ab05149697",
   "metadata": {},
   "source": [
    "# total accuracy "
   ]
  },
  {
   "cell_type": "code",
   "execution_count": null,
   "id": "330b0fee-d49e-4ded-bd02-dcf67d078666",
   "metadata": {},
   "outputs": [],
   "source": [
    "class_correct = list(0. for i in range(10))\n",
    "class_total = list(0. for i in range(10))\n",
    "with torch.no_grad():\n",
    "    for data in test_dataloader:\n",
    "        images, labels = data\n",
    "        outputs = model(images)\n",
    "        _, predicted = torch.max(outputs, 1)\n",
    "        c = (predicted == labels).squeeze()\n",
    "        for i in range(4):\n",
    "            label = labels[i]\n",
    "            class_correct[label] += c[i].item()\n",
    "            class_total[label] += 1\n",
    "\n",
    "\n",
    "for i in range(10):\n",
    "    print('Accuracy of %5s : %2d %%' % (\n",
    "        classes[i], 100 * class_correct[i] / class_total[i]))"
   ]
  },
  {
   "cell_type": "code",
   "execution_count": null,
   "id": "71f2ff40-3f6d-47fa-9523-6095669c9c43",
   "metadata": {},
   "outputs": [],
   "source": []
  }
 ],
 "metadata": {
  "kernelspec": {
   "display_name": "Python 3 (ipykernel)",
   "language": "python",
   "name": "python3"
  },
  "language_info": {
   "codemirror_mode": {
    "name": "ipython",
    "version": 3
   },
   "file_extension": ".py",
   "mimetype": "text/x-python",
   "name": "python",
   "nbconvert_exporter": "python",
   "pygments_lexer": "ipython3",
   "version": "3.8.10"
  }
 },
 "nbformat": 4,
 "nbformat_minor": 5
}
